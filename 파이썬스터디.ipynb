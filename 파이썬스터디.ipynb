{
  "nbformat": 4,
  "nbformat_minor": 0,
  "metadata": {
    "colab": {
      "name": "파이썬스터디.ipynb",
      "provenance": []
    },
    "kernelspec": {
      "name": "python3",
      "display_name": "Python 3"
    },
    "language_info": {
      "name": "python"
    }
  },
  "cells": [
    {
      "cell_type": "code",
      "execution_count": 3,
      "metadata": {
        "colab": {
          "base_uri": "https://localhost:8080/"
        },
        "id": "UirstBt11miN",
        "outputId": "218e5bfa-3e54-477e-d29b-0edbbdf7e411"
      },
      "outputs": [
        {
          "output_type": "stream",
          "name": "stdout",
          "text": [
            "hello\n",
            "hello \"안녕하세요\"\n",
            "hello '안녕하세요'\n",
            "안녕 하세요 반갑습니다\n",
            "안녕하세요반갑습니다\n",
            "안녕하세요\n",
            "오늘은 날씨가 좋네요\n",
            "안녕하세요\n",
            "오늘은 날씨가 좋네요\n",
            "안녕하세요오늘은 날씨가 좋네요\n",
            " a값:123 b값:안녕하세요. \n",
            " a값:123 b값:안녕하세요.\n"
          ]
        }
      ],
      "source": [
        "print(\"hello\")\n",
        "print('hello \"안녕하세요\"')\n",
        "print(\"hello '안녕하세요'\")\n",
        "print('안녕', '하세요', '반갑습니다')\n",
        "print('안녕'+'하세요'+'반갑습니다')\n",
        "print(\"\"\"안녕하세요\n",
        "오늘은 날씨가 좋네요\"\"\")\n",
        "print('''안녕하세요\n",
        "오늘은 날씨가 좋네요''')\n",
        "print(\"안녕하세요\"\\\n",
        "\"오늘은 날씨가 좋네요\")\n",
        "a=123\n",
        "b=\"안녕하세요.\"\n",
        "print(\" a값:{} b값:{} \".format(a,b))\n",
        "print(f\" a값:{a} b값:{b}\")\n"
      ]
    },
    {
      "cell_type": "code",
      "source": [
        "input()\n",
        "input(\"값을 입력하여 주세요:\")\n",
        "a=input('첫 번째 문자열 입력:')\n",
        "b=input('두 번째 문자열 입력:')\n",
        "\n",
        "print(a+b)"
      ],
      "metadata": {
        "colab": {
          "base_uri": "https://localhost:8080/"
        },
        "id": "s92LdF_P4oGv",
        "outputId": "33d7713c-ab09-475c-d0c5-c0b51ca2b143"
      },
      "execution_count": 6,
      "outputs": [
        {
          "output_type": "stream",
          "name": "stdout",
          "text": [
            "123\n",
            "값을 입력하여 주세요:123\n",
            "첫 번째 문자열 입력:2\n",
            "두 번째 문자열 입력:4\n",
            "24\n"
          ]
        }
      ]
    },
    {
      "cell_type": "code",
      "source": [
        "a=10\n",
        "b=10\n",
        "c=a+b\n",
        "print(c)\n",
        "d='10'\n",
        "print(c+int(d))\n",
        "print(str(c)+d)\n",
        "\n",
        "e=3.14\n",
        "f=10\n",
        "print(e+f)\n",
        "\n",
        "c=float(a)+float(b)\n",
        "print(c)\n",
        "\n",
        "a_bool = True\n",
        "b_bool = False\n",
        "a_int = 1\n",
        "b_int = 0\n",
        "print(a_bool)\n",
        "print(b_bool)\n",
        "print(type(a_bool))\n",
        "print(type(b_bool))\n",
        "print(a_int)\n",
        "print(b_int)\n",
        "print(type(a_int))\n",
        "print(type(b_int))"
      ],
      "metadata": {
        "colab": {
          "base_uri": "https://localhost:8080/"
        },
        "id": "E8H00lnB7Pv2",
        "outputId": "b027ad47-95d0-4a0f-dfe2-185901992b38"
      },
      "execution_count": 12,
      "outputs": [
        {
          "output_type": "stream",
          "name": "stdout",
          "text": [
            "20\n",
            "30\n",
            "2010\n",
            "13.14\n",
            "20.0\n",
            "True\n",
            "False\n",
            "<class 'bool'>\n",
            "<class 'bool'>\n",
            "1\n",
            "0\n",
            "<class 'int'>\n",
            "<class 'int'>\n"
          ]
        }
      ]
    },
    {
      "cell_type": "code",
      "source": [
        "a_list = [1,2,3,4,5]\n",
        "print(a_list)\n",
        "print(a_list[0])\n",
        "print(a_list[1])\n",
        "print(a_list[:2])\n",
        "print(a_list[2:])\n",
        "\n",
        "b_list=[]\n",
        "b_list.append(1)\n",
        "b_list.append(2)\n",
        "b_list.append(3)\n",
        "print(b_list)\n",
        "\n",
        "c_list=[1,3.14,\"hello\",[1,2,3]]\n",
        "print(c_list)\n",
        "print(c_list[1:3])\n",
        "\n",
        "d_list=[1,2,3,4,5]\n",
        "print(d_list)\n",
        "d_list[0]=5\n",
        "print(d_list)\n",
        "\n",
        "a_tuple=(1,2,3,4,5)\n",
        "print(a_tuple)\n",
        "\n",
        "a_dic={'a':1, 'b':2, 'c':'3'}\n",
        "print(a_dic)\n",
        "print(a_dic['a'])\n",
        "print(a_dic['b'])\n",
        "print(a_dic['c'])\n",
        "\n",
        "b_dic={1: 'a', 'b' : [1,2,3], 'c':3}\n",
        "print(b_dic[1])\n",
        "print(b_dic['b'])\n",
        "print(b_dic['c'])\n",
        "b_dic['d'] = 4\n",
        "print(b_dic)\n",
        "\n",
        "a_set=set([1,2,3,4])\n",
        "print(a_set)\n",
        "b_set=set([1,1,2,2,3,3,4,5,6])\n",
        "print(b_set)\n",
        "c_set=set(\"python40s\")\n",
        "print(c_set)"
      ],
      "metadata": {
        "colab": {
          "base_uri": "https://localhost:8080/"
        },
        "id": "Y4ytGGZK-AUI",
        "outputId": "681cbf9f-2f9a-4d58-c4e8-25be4178097e"
      },
      "execution_count": 18,
      "outputs": [
        {
          "output_type": "stream",
          "name": "stdout",
          "text": [
            "[1, 2, 3, 4, 5]\n",
            "1\n",
            "2\n",
            "[1, 2]\n",
            "[3, 4, 5]\n",
            "[1, 2, 3]\n",
            "[1, 3.14, 'hello', [1, 2, 3]]\n",
            "[3.14, 'hello']\n",
            "[1, 2, 3, 4, 5]\n",
            "[5, 2, 3, 4, 5]\n",
            "(1, 2, 3, 4, 5)\n",
            "{'a': 1, 'b': 2, 'c': '3'}\n",
            "1\n",
            "2\n",
            "3\n",
            "a\n",
            "[1, 2, 3]\n",
            "3\n",
            "{1: 'a', 'b': [1, 2, 3], 'c': 3, 'd': 4}\n",
            "{1, 2, 3, 4}\n",
            "{1, 2, 3, 4, 5, 6}\n",
            "{'h', 't', 'p', 'n', '0', 'y', 'o', '4', 's'}\n"
          ]
        }
      ]
    },
    {
      "cell_type": "code",
      "source": [
        "print(\"더하기:\",10+20)\n",
        "print(\"빼기:\",10-20)\n",
        "print(\"곱하기:\",10*20)\n",
        "print(\"나누기:\",10/20)\n",
        "print(\"c**2: \",10**2)\n",
        "print(\"c**3: \",10**3)\n",
        "print(\"c**4: \",10**4)\n",
        "print(\"몫: \",40//6)\n",
        "print(\"나머지: \",40%6)\n",
        "\n",
        "print(0 or 0)\n",
        "print(0 or 1)\n",
        "print(1 or 0)\n",
        "print(1 or 1)\n",
        "print(False or False)\n",
        "print(False or True)\n",
        "print(True or False)\n",
        "print(True or True)\n",
        "\n",
        "print(0 and 0)\n",
        "print(0 and 1)\n",
        "print(1 and 0)\n",
        "print(1 and 1)\n",
        "print(False and False)\n",
        "print(False and True)\n",
        "print(True and False)\n",
        "print(True and True)\n",
        "\n",
        "print(not 0)\n",
        "print(not 1)\n",
        "print(not False)\n",
        "print(not True)\n",
        "\n",
        "print(10 == 10)\n",
        "print(10 >= 10)\n",
        "print(10 <= 10)\n",
        "print(10 < 5)\n",
        "print(10 > 5)\n",
        "print(10 != 10)\n",
        "\n",
        "a_list=['a',2,'hello',3]\n",
        "print('a' in a_list)\n",
        "print(1 in a_list)\n",
        "print('hello' in a_list)\n",
        "print(3 in a_list)\n",
        "\n",
        "a_str=\"hello python\"\n",
        "print(\"python\" in a_str)\n",
        "print(\"py\" in a_str)\n",
        "print(\"py\" in a_str)\n",
        "print(\"40\" in a_str)"
      ],
      "metadata": {
        "colab": {
          "base_uri": "https://localhost:8080/"
        },
        "id": "zZDElCRtDROa",
        "outputId": "a34f92bf-4649-4919-b9eb-9c244a784adc"
      },
      "execution_count": 25,
      "outputs": [
        {
          "output_type": "stream",
          "name": "stdout",
          "text": [
            "더하기: 30\n",
            "빼기: -10\n",
            "곱하기: 200\n",
            "나누기: 0.5\n",
            "c**2:  100\n",
            "c**3:  1000\n",
            "c**4:  10000\n",
            "몫:  6\n",
            "나머지:  4\n",
            "0\n",
            "1\n",
            "1\n",
            "1\n",
            "False\n",
            "True\n",
            "True\n",
            "True\n",
            "0\n",
            "0\n",
            "0\n",
            "1\n",
            "False\n",
            "False\n",
            "False\n",
            "True\n",
            "True\n",
            "False\n",
            "True\n",
            "False\n",
            "True\n",
            "True\n",
            "True\n",
            "False\n",
            "True\n",
            "False\n",
            "True\n",
            "False\n",
            "True\n",
            "True\n",
            "True\n",
            "True\n",
            "True\n",
            "False\n"
          ]
        }
      ]
    },
    {
      "cell_type": "code",
      "source": [
        "a=1\n",
        "b=1\n",
        "if a==b:\n",
        "  print(\"두 개의 값은 같습니다.\")\n",
        "if a!=b:\n",
        "  print(\"두 개의 값은 같지 않습니다.\")\n",
        "\n",
        "a=1\n",
        "b=2\n",
        "if a==b:\n",
        "  print(\"두 개의 값은 같습니다.\")\n",
        "else:\n",
        "  print(\"두 개의 값은 같지 않습니다.\")\n",
        "if a>b:\n",
        "  print(\"a 값이 더 큽니다.\")\n",
        "elif a<b:\n",
        "  print(\"b 값이 더 큽니다.\")\n",
        "else:\n",
        "  print(\"두 개의 값은 같습니다.\")\n",
        "\n",
        "a=1\n",
        "b=1\n",
        "if a>=b:\n",
        "  print(\"a 값이 더 크거나 같습니다.\")\n",
        "if a<=b:\n",
        "  print(\"a 값이 더 작거나 같습니다.\")\n",
        "\n",
        "a=1\n",
        "b=1\n",
        "c=2\n",
        "d=2\n",
        "if a==b and c==d:\n",
        "  print(\"두 조건 모두 만족\")\n",
        "if a==b or c==d:\n",
        "  print(\"두 조건 중 하나라도 만족하면\")\n",
        "\n",
        "a_str = \"hello python\"\n",
        "if a_str == \"hello python\":\n",
        "  print(\"hello python 문자열이 같습니다.\")\n",
        "if a_str == \"hi python\":\n",
        "  print(\"hi python 문자열이 같습니다.\")\n",
        "if \"hello\" in a_str:\n",
        "  print(\"hello 가 포함되어 있습니다.\")\n",
        "if \"hello\" not in a_str:\n",
        "  print(\"hello가 포함되어 있지 않습니다.\")\n",
        "if \"hi\" not in a_str:\n",
        "  print(\"hi가 포함되어 있지 않습니다. \")\n",
        "\n",
        "a_list = [\"안녕\", 1,2,\"파이썬\"]\n",
        "if \"안녕\" in a_list:\n",
        "  print(\"a_list에 안녕 이 포함되어 있습니다.\")\n",
        "if 2 in a_list:\n",
        "  print(\"a_list에 숫자 2가 포함되어 있습니다.\")\n",
        "if \"안녕\" not in a_list:\n",
        "  print(\"a_list에 안녕 이 포함되어 있지 않습니다.\")\n",
        "if 5 not in a_list:\n",
        "  print(\"a_list에 숫자 5는 없습니다.\")"
      ],
      "metadata": {
        "colab": {
          "base_uri": "https://localhost:8080/"
        },
        "id": "wEPBGHS2LkH8",
        "outputId": "8a992468-7d7e-40c9-b9cc-c367aa225053"
      },
      "execution_count": 27,
      "outputs": [
        {
          "output_type": "stream",
          "name": "stdout",
          "text": [
            "두 개의 값은 같습니다.\n",
            "두 개의 값은 같지 않습니다.\n",
            "b 값이 더 큽니다.\n",
            "a 값이 더 크거나 같습니다.\n",
            "a 값이 더 작거나 같습니다.\n",
            "두 조건 모두 만족\n",
            "두 조건 중 하나라도 만족하면\n",
            "hello python 문자열이 같습니다.\n",
            "hello 가 포함되어 있습니다.\n",
            "hi가 포함되어 있지 않습니다. \n",
            "a_list에 안녕 이 포함되어 있습니다.\n",
            "a_list에 숫자 2가 포함되어 있습니다.\n",
            "a_list에 숫자 5는 없습니다.\n"
          ]
        }
      ]
    },
    {
      "cell_type": "code",
      "source": [
        "#for문\n",
        "for i in range(7):\n",
        "  print(i)\n",
        "for i in range(5,10):\n",
        "  print(i)\n",
        "for i in range(10,5,-1):\n",
        "  print(i)\n",
        "a_list = [1,2,3,4,5,\"안녕\",\"하세요\"]\n",
        "for i in a_list:\n",
        "  print(i)\n",
        "a_str = \"hello python\"\n",
        "for i in a_str:\n",
        "  print(i)\n",
        "\n",
        "name_list = [\"홍길동\", \"장다인\", \"김철수\"]\n",
        "age_list = [500,5,12]\n",
        "for i,k in enumerate(name_list):\n",
        "  print(\"i=\", i, end='  ')\n",
        "  print(\"k=\",k)\n",
        "for i,k in enumerate(name_list):\n",
        "  print(k, end='  ')\n",
        "  print(age_list[i])\n",
        "for i,k in enumerate(name_list):\n",
        "  print(name_list[i],end='  ')\n",
        "  print(age_list[i])\n",
        "for i in range(len(name_list)):\n",
        "  print(name_list[i],end='  ')\n",
        "  print(age_list[i])\n",
        "\n",
        "test_list = [i for i in range(10)]\n",
        "print(test_list)\n",
        "\n",
        "test2_list=[]\n",
        "for i in range(10):\n",
        "  test2_list.append(i)\n",
        "print(test2_list)\n",
        "\n",
        "test_list=[i*5 for i in range(10)]\n",
        "print(test_list)\n",
        "test2_list=[0 for i in range(10)]\n",
        "print(test2_list)\n",
        "\n",
        "#while문\n",
        "a=0\n",
        "while a<5:\n",
        "  print(a)\n",
        "  a=a+1\n",
        "\n",
        "a=0\n",
        "while True:\n",
        "  print(a)\n",
        "  a=a+1\n",
        "  if a>=5:\n",
        "    break"
      ],
      "metadata": {
        "colab": {
          "base_uri": "https://localhost:8080/"
        },
        "id": "oqIOcJNAP6y2",
        "outputId": "e58fc354-5b5e-4b1c-cdc7-3b8f0590c523"
      },
      "execution_count": 38,
      "outputs": [
        {
          "output_type": "stream",
          "name": "stdout",
          "text": [
            "0\n",
            "1\n",
            "2\n",
            "3\n",
            "4\n",
            "5\n",
            "6\n",
            "5\n",
            "6\n",
            "7\n",
            "8\n",
            "9\n",
            "10\n",
            "9\n",
            "8\n",
            "7\n",
            "6\n",
            "1\n",
            "2\n",
            "3\n",
            "4\n",
            "5\n",
            "안녕\n",
            "하세요\n",
            "h\n",
            "e\n",
            "l\n",
            "l\n",
            "o\n",
            " \n",
            "p\n",
            "y\n",
            "t\n",
            "h\n",
            "o\n",
            "n\n",
            "i= 0  k= 홍길동\n",
            "i= 1  k= 장다인\n",
            "i= 2  k= 김철수\n",
            "홍길동  500\n",
            "장다인  5\n",
            "김철수  12\n",
            "홍길동  500\n",
            "장다인  5\n",
            "김철수  12\n",
            "홍길동  500\n",
            "장다인  5\n",
            "김철수  12\n",
            "[0, 1, 2, 3, 4, 5, 6, 7, 8, 9]\n",
            "[0, 1, 2, 3, 4, 5, 6, 7, 8, 9]\n",
            "[0, 5, 10, 15, 20, 25, 30, 35, 40, 45]\n",
            "[0, 0, 0, 0, 0, 0, 0, 0, 0, 0]\n",
            "0\n",
            "1\n",
            "2\n",
            "3\n",
            "4\n",
            "0\n",
            "1\n",
            "2\n",
            "3\n",
            "4\n"
          ]
        }
      ]
    },
    {
      "cell_type": "code",
      "source": [
        "try:\n",
        "  ddkfjekfjdl\n",
        "except:\n",
        "  print(\"에러발생\")\n",
        "\n",
        "try:\n",
        "  dkejfkjefoi\n",
        "except:\n",
        "  pass\n",
        "print(\"에러를 무시\")\n",
        "\n",
        "try:\n",
        "  dfkejfkejke\n",
        "except Exception as e:\n",
        "  print(\"에러발생 원인\", e)"
      ],
      "metadata": {
        "colab": {
          "base_uri": "https://localhost:8080/"
        },
        "id": "XYdPhDz9Sh4P",
        "outputId": "12d9261c-f0fc-4fa9-aa98-27496ff1d528"
      },
      "execution_count": 41,
      "outputs": [
        {
          "output_type": "stream",
          "name": "stdout",
          "text": [
            "에러발생\n",
            "에러를 무시\n",
            "에러발생 원인 name 'dfkejfkejke' is not defined\n"
          ]
        }
      ]
    },
    {
      "cell_type": "code",
      "source": [
        "def func():\n",
        "  print(\"안녕하세요\")\n",
        "  print(\"파이썬과 40개의 작품들 입니다.\")\n",
        "func()\n",
        "for i in range(3):\n",
        "  func()\n",
        "\n",
        "def funcAdd(a,b):\n",
        "  return a+b\n",
        "c = funcAdd(1,2)\n",
        "print(c)\n",
        "\n",
        "def funcMux(a,b):\n",
        "  mux=a*b\n",
        "  return mux\n",
        "c=funcMux(2,3)\n",
        "print(c)\n",
        "\n",
        "def funcAddMux(a,b):\n",
        "  add=a+b\n",
        "  mux=a*b\n",
        "  return add,mux\n",
        "a,b=funcAddMux(1,3)\n",
        "print(a,b)\n",
        "\n",
        "def funcAddMux(a,b):\n",
        "  add=a+b\n",
        "  mux=a*b\n",
        "  return add,mux\n",
        "_,b=funcAddMux(1,3) #1번째 값은 받지 않겠다는 뜻\n",
        "print(b)"
      ],
      "metadata": {
        "colab": {
          "base_uri": "https://localhost:8080/"
        },
        "id": "BSnC8EKITCnY",
        "outputId": "b9f0b4dd-d3bc-4196-c954-e4d039cee694"
      },
      "execution_count": 47,
      "outputs": [
        {
          "output_type": "stream",
          "name": "stdout",
          "text": [
            "안녕하세요\n",
            "파이썬과 40개의 작품들 입니다.\n",
            "안녕하세요\n",
            "파이썬과 40개의 작품들 입니다.\n",
            "안녕하세요\n",
            "파이썬과 40개의 작품들 입니다.\n",
            "안녕하세요\n",
            "파이썬과 40개의 작품들 입니다.\n",
            "3\n",
            "6\n",
            "4 3\n",
            "3\n"
          ]
        }
      ]
    },
    {
      "cell_type": "code",
      "source": [
        "class Greet():\n",
        "  def hello(self):\n",
        "    print(\"hello\")\n",
        "  def hi(self):\n",
        "    print(\"hi\")\n",
        "human1 = Greet()\n",
        "human2 = Greet()\n",
        "human1.hello()\n",
        "human1.hi()\n",
        "human2.hello()\n",
        "human2.hi()\n",
        "\n",
        "class Student():\n",
        "  def __init__(self, name, age, like):\n",
        "    self.name=name\n",
        "    self.age=age\n",
        "    self.like=like\n",
        "  def studentInfo(self):\n",
        "    print(f\"이름:{self.name}, 나이:{self.age}, 좋아하는 것:{self.like}\")\n",
        "김철수 = Student(\"김철수\", 17, \"축구\")\n",
        "장다인 = Student(\"장다인\", 5, \"헬로카봇\")\n",
        "김철수.studentInfo()\n",
        "장다인.studentInfo()\n",
        "\n",
        "class Mother():\n",
        "  def characteristic(self):\n",
        "    print(\"키가 크다.\")\n",
        "    print(\"공부를 잘한다.\")\n",
        "class Daughter(Mother):\n",
        "  def characteristic(self):\n",
        "    super().characteristic()\n",
        "    print(\"운동을 잘한다.\")\n",
        "엄마 = Mother()\n",
        "딸 = Daughter()\n",
        "print(\"엄마는 \")\n",
        "엄마.characteristic()\n",
        "print(\"딸은 \")\n",
        "딸.characteristic()\n",
        "\n",
        "class Mother():\n",
        "  def __init__(self):\n",
        "    print(\"키가 크다.\")\n",
        "    print(\"공부를 잘한다.\")\n",
        "class Daughter(Mother):\n",
        "  def __init__(self):\n",
        "    super().__init__()\n",
        "    print(\"운동을 잘한다.\")\n",
        "print(\"엄마는\")\n",
        "엄마=Mother()\n",
        "print(\"딸은\")\n",
        "딸=Daughter()"
      ],
      "metadata": {
        "colab": {
          "base_uri": "https://localhost:8080/"
        },
        "id": "CwDNiEvqUM5V",
        "outputId": "68b1129c-87eb-4970-f63d-070e3b5402d6"
      },
      "execution_count": 59,
      "outputs": [
        {
          "output_type": "stream",
          "name": "stdout",
          "text": [
            "hello\n",
            "hi\n",
            "hello\n",
            "hi\n",
            "이름:김철수, 나이:17, 좋아하는 것:축구\n",
            "이름:장다인, 나이:5, 좋아하는 것:헬로카봇\n",
            "엄마는 \n",
            "키가 크다.\n",
            "공부를 잘한다.\n",
            "딸은 \n",
            "키가 크다.\n",
            "공부를 잘한다.\n",
            "운동을 잘한다.\n",
            "엄마는\n",
            "키가 크다.\n",
            "공부를 잘한다.\n",
            "딸은\n",
            "키가 크다.\n",
            "공부를 잘한다.\n",
            "운동을 잘한다.\n"
          ]
        }
      ]
    },
    {
      "cell_type": "code",
      "source": [
        "#주석입니다.\n",
        "#사용자 설명 코드 입니다.\n",
        "print(\"hello\")\n",
        "#print(\"hello\")\n",
        "print(\"hi\")\n",
        "\n",
        "\"\"\"\n",
        "여러 줄을 입력할때는 \n",
        "쌍따옴표 3개로 시작하고\n",
        "쌍따옴표 3개로 종료하면\n",
        "여러 줄을 입력할 수 있습니다. \n",
        "\"\"\"\n",
        "\n",
        "'''\n",
        "또는 여러 줄을 입력할 때는 \n",
        "따옴표 3개로 시작하고\n",
        "따옴표 3개로 종료하면\n",
        "여러 줄을 입력할 수 있습니다.\n",
        "'''\n",
        "\n",
        "a_str = \"\"\"\n",
        "여러 줄의\n",
        "문자열을 입력할 때도\n",
        "쌍따옴표 또는 따옴표\n",
        "3개를 사용할 수 있습니다.\n",
        "\"\"\"\n",
        "print(a_str)\n",
        "\n",
        "#여러 줄을 마우스로 드래그 하여 선택 후 [Ctrl + /]로 주석 처리 할 수 있습니다. \n",
        "#다시 주석을 해제할 때는 # 주석 처리된 코드에서 [Ctrl + /]로 주석을 해제 할 수 있습니다.\n",
        "#a=1\n",
        "#b=2\n",
        "#print(a+b)"
      ],
      "metadata": {
        "colab": {
          "base_uri": "https://localhost:8080/"
        },
        "id": "oorDUpZUX7WJ",
        "outputId": "b62c2caa-6f97-4acc-84f7-6c17b8183148"
      },
      "execution_count": 60,
      "outputs": [
        {
          "output_type": "stream",
          "name": "stdout",
          "text": [
            "hello\n",
            "hi\n",
            "\n",
            "여러 줄의\n",
            "문자열을 입력할 때도\n",
            "쌍따옴표 또는 따옴표\n",
            "3개를 사용할 수 있습니다.\n",
            "\n"
          ]
        }
      ]
    },
    {
      "cell_type": "code",
      "source": [
        "import random\n",
        "print(random.randint(1,100))\n",
        "\n",
        "import random as rd\n",
        "print(rd.randint(1,100))\n",
        "\n",
        "from random import randint\n",
        "print(randint(1,100))\n",
        "\n",
        "from random import *\n",
        "print(randint(1,100))"
      ],
      "metadata": {
        "colab": {
          "base_uri": "https://localhost:8080/"
        },
        "id": "UuWIPApzX-JB",
        "outputId": "edee3aaa-b016-4eac-ae23-93c4af2175cb"
      },
      "execution_count": 56,
      "outputs": [
        {
          "output_type": "stream",
          "name": "stdout",
          "text": [
            "74\n",
            "5\n",
            "14\n",
            "69\n"
          ]
        }
      ]
    }
  ]
}